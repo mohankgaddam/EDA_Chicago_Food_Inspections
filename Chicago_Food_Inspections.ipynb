{
 "cells": [
  {
   "cell_type": "code",
   "execution_count": null,
   "metadata": {},
   "outputs": [],
   "source": [
    "#Import required packages\n",
    "\n",
    "import pandas as pd\n",
    "import numpy as np\n",
    "import matplotlib.pyplot as plt\n",
    "%matplotlib inline\n",
    "import pymysql.cursors\n",
    "import ast\n",
    "import os,conda\n",
    "conda_file_dir = conda.__file__\n",
    "conda_dir = conda_file_dir.split('lib')[0]\n",
    "proj_lib = os.path.join(os.path.join(conda_dir, 'Library'), 'share')\n",
    "os.environ[\"PROJ_LIB\"] = proj_lib\n",
    "from mpl_toolkits.basemap import Basemap\n",
    "from datetime import datetime\n",
    "pd.options.mode.chained_assignment = None"
   ]
  },
  {
   "cell_type": "markdown",
   "metadata": {},
   "source": [
    "#### Import chicago food inspection data taken from the below link.\n",
    "https://data.cityofchicago.org/Health-Human-Services/Food-Inspections/4ijn-s7e5/data"
   ]
  },
  {
   "cell_type": "markdown",
   "metadata": {},
   "source": [
    "Description: \n",
    "\n",
    "This information is derived from inspections of restaurants and other food establishments in Chicago from January 1, 2010 to the present. \n",
    "\n",
    "variables include:\n",
    "\n",
    "DBA: \"Doing Business as\"\n",
    "\n",
    "AKA: \"Also known as\"\n",
    "\n",
    "License #: \"License number\"\n",
    "\n",
    "Facility Type: Type of the facility like Restaurant, hospital, groceries, gas station etc..\n",
    "\n",
    "Risk: Each establishment is categorized as Risk 1, 2, 3\n",
    "\n",
    "Street address, city, state, zip code\n",
    "\n",
    "Inspection type: Canvass, complaint, suspected food-poisoning\n",
    "\n",
    "Results: pass, pass with conditions, fail, out of business, etc..\n",
    "\n",
    "Violations: violation number, description of findings\n"
   ]
  },
  {
   "cell_type": "code",
   "execution_count": null,
   "metadata": {},
   "outputs": [],
   "source": [
    "connection = pymysql.connect(host='localhost', user='root', password='root', db='food')"
   ]
  },
  {
   "cell_type": "code",
   "execution_count": null,
   "metadata": {},
   "outputs": [],
   "source": [
    "#Test pandas read_sql\n",
    "df = pd.read_sql('SELECT * from food_inspections', con = connection)\n",
    "df.head(2)"
   ]
  },
  {
   "cell_type": "code",
   "execution_count": null,
   "metadata": {},
   "outputs": [],
   "source": [
    "inspections_data = pd.read_csv(\"Food_Inspections.csv\")"
   ]
  },
  {
   "cell_type": "code",
   "execution_count": null,
   "metadata": {},
   "outputs": [],
   "source": [
    "print(inspections_data.shape)\n",
    "inspections_data.head(2)"
   ]
  },
  {
   "cell_type": "markdown",
   "metadata": {},
   "source": [
    "#### Make changes for the csv file so that the csv can be imported into sql table."
   ]
  },
  {
   "cell_type": "code",
   "execution_count": null,
   "metadata": {},
   "outputs": [],
   "source": [
    "sql_csv = inspections_data\n",
    "sql_csv.drop(columns = [\"Violations\"], inplace = True)\n",
    "sql_csv.to_csv(\"Food_Inspections_sql.csv\", index = False)"
   ]
  },
  {
   "cell_type": "markdown",
   "metadata": {},
   "source": [
    "#### Check for missing values in the data"
   ]
  },
  {
   "cell_type": "code",
   "execution_count": null,
   "metadata": {},
   "outputs": [],
   "source": [
    "inspections_data.isnull().sum()"
   ]
  },
  {
   "cell_type": "markdown",
   "metadata": {},
   "source": [
    "#### Here we have around 668 rows with no location. Let\\`s delete them."
   ]
  },
  {
   "cell_type": "code",
   "execution_count": null,
   "metadata": {},
   "outputs": [],
   "source": [
    "inspections_data.dropna(subset = ['Location'], inplace = True)\n",
    "print(len(inspections_data))"
   ]
  },
  {
   "cell_type": "code",
   "execution_count": null,
   "metadata": {},
   "outputs": [],
   "source": [
    "inspections_data.isnull().sum()"
   ]
  },
  {
   "cell_type": "markdown",
   "metadata": {},
   "source": [
    "#### Results column shows the result of the inspection. Inspections with values pass, pass with conditions or fail are of interest to us. We will delete the Inspections with other values in the results column.  "
   ]
  },
  {
   "cell_type": "code",
   "execution_count": null,
   "metadata": {},
   "outputs": [],
   "source": [
    "print(\"All possible unique values of Results column:\\n\", inspections_data.Results.unique())\n",
    "inspections_data = inspections_data[inspections_data.Results.isin(['Pass', 'Pass w/ Conditions', 'Fail'])]\n",
    "#Around 22500 inspections were discarded.\n",
    "print(len(inspections_data))"
   ]
  },
  {
   "cell_type": "markdown",
   "metadata": {},
   "source": [
    "#### If there are any duplicate rows, drop them. "
   ]
  },
  {
   "cell_type": "code",
   "execution_count": null,
   "metadata": {},
   "outputs": [],
   "source": [
    "inspections_data.drop_duplicates(inplace=True)\n",
    "print(len(inspections_data))"
   ]
  },
  {
   "cell_type": "markdown",
   "metadata": {},
   "source": [
    "#### For our graphs/inferences to be more accurate, it is better to maintain consistency. So we change all values of some columns to uppercase. But this doesn\\`t solve other problems in naming conventions(like space, special characters etc..) "
   ]
  },
  {
   "cell_type": "code",
   "execution_count": null,
   "metadata": {},
   "outputs": [],
   "source": [
    "inspections_data['DBA Name'] = inspections_data['DBA Name'].str.upper()\n",
    "inspections_data['DBA Name'] = inspections_data['DBA Name'].str.replace(\"'\", \"\")\n",
    "inspections_data['Facility Type'] = inspections_data['Facility Type'].str.upper()\n"
   ]
  },
  {
   "cell_type": "markdown",
   "metadata": {},
   "source": [
    "### 2)  Let\\`s plot some bar graphs for variables in the data."
   ]
  },
  {
   "cell_type": "markdown",
   "metadata": {},
   "source": [
    "#### (i) Plot the number of inspections (frequency) for each result type "
   ]
  },
  {
   "cell_type": "code",
   "execution_count": null,
   "metadata": {},
   "outputs": [],
   "source": [
    "inspections_data.Results.value_counts().plot(kind = 'bar', title = 'Number of food inspections by result')\n",
    "#So we have a lot of inspections which passed(around 1 lakh)"
   ]
  },
  {
   "cell_type": "markdown",
   "metadata": {},
   "source": [
    "Hence, We have a lot of inspections with result pass."
   ]
  },
  {
   "cell_type": "markdown",
   "metadata": {},
   "source": [
    "#### (ii) Plot the number of inspections per month"
   ]
  },
  {
   "cell_type": "code",
   "execution_count": null,
   "metadata": {},
   "outputs": [],
   "source": [
    "inspections_data['Inspection Date'] = pd.to_datetime(inspections_data['Inspection Date'])\n",
    "inspections_per_month = inspections_data['Inspection Date'].dt.to_period('M').value_counts()\n",
    "inspections_per_month.sort_index(inplace = True)\n",
    "inspections_per_month.plot(kind = 'bar', figsize = (22, 12), title = \"Number of food inspections per month\")"
   ]
  },
  {
   "cell_type": "markdown",
   "metadata": {},
   "source": [
    "The above plot shows the number of inspections per month from 2010 to 2018."
   ]
  },
  {
   "cell_type": "markdown",
   "metadata": {},
   "source": [
    "#### (iii) Plot the number of inspections for each risk type "
   ]
  },
  {
   "cell_type": "code",
   "execution_count": null,
   "metadata": {},
   "outputs": [],
   "source": [
    "inspections_data.Risk.value_counts().plot(kind = 'bar', title = 'Number of food inspections by risk')"
   ]
  },
  {
   "cell_type": "markdown",
   "metadata": {},
   "source": [
    "Each establishment is categorized as to its risk of adversely affecting the public’s health, with 1 being the highest and 3 the lowest. The frequency of inspection is tied to this risk."
   ]
  },
  {
   "cell_type": "markdown",
   "metadata": {},
   "source": [
    "#### (iv) Plot the number of inspections by zipcode"
   ]
  },
  {
   "cell_type": "code",
   "execution_count": null,
   "metadata": {},
   "outputs": [],
   "source": [
    "inspections_data.Zip.value_counts().plot(kind = 'bar', title = 'Number of food inspections by Zip', figsize = (18, 12))"
   ]
  },
  {
   "cell_type": "markdown",
   "metadata": {},
   "source": [
    "#### (v) Plot the number of inspections for first 20 facility types with most inspections."
   ]
  },
  {
   "cell_type": "code",
   "execution_count": null,
   "metadata": {},
   "outputs": [],
   "source": [
    "inspections_data['Facility Type'].value_counts()[0:20].plot(kind = 'bar')"
   ]
  },
  {
   "cell_type": "markdown",
   "metadata": {},
   "source": [
    "#### (vi) Plot the number of inspections for first 30 addresses with most inspections."
   ]
  },
  {
   "cell_type": "code",
   "execution_count": null,
   "metadata": {},
   "outputs": [],
   "source": [
    "inspections_data.Address.value_counts()[0:30].plot(kind = 'bar')"
   ]
  },
  {
   "cell_type": "markdown",
   "metadata": {},
   "source": [
    "#### (vii) Plot the number of inspections for first 10 inspection types with most inspections."
   ]
  },
  {
   "cell_type": "code",
   "execution_count": null,
   "metadata": {},
   "outputs": [],
   "source": [
    "inspections_data['Inspection Type'].value_counts()[0:10].plot(kind = 'bar')"
   ]
  },
  {
   "cell_type": "markdown",
   "metadata": {},
   "source": [
    "#### (viii) Top 20 food chains with most inspections."
   ]
  },
  {
   "cell_type": "code",
   "execution_count": null,
   "metadata": {},
   "outputs": [],
   "source": [
    "inspections_data['DBA Name'].value_counts()[0:20].plot(kind = 'bar')"
   ]
  },
  {
   "cell_type": "code",
   "execution_count": null,
   "metadata": {},
   "outputs": [],
   "source": [
    "inspections_data[inspections_data.Address == '11601 W TOUHY AVE ']"
   ]
  },
  {
   "cell_type": "markdown",
   "metadata": {},
   "source": [
    "#### Let\\`s plot the location of all the food establishments where the inspection failed on chicago census tracts plot"
   ]
  },
  {
   "cell_type": "code",
   "execution_count": null,
   "metadata": {},
   "outputs": [],
   "source": [
    "fig = plt.figure(figsize=[16,10])\n",
    "m = Basemap(projection='merc',llcrnrlat=41.60,urcrnrlat=42.10,\\\n",
    "        llcrnrlon=-88.0,urcrnrlon=-87.50,lat_ts=20,resolution='c')\n",
    "m.readshapefile('./geo_export_0e3da441-8fe8-4e11-9ca0-42ef75cab68e','chicago')\n",
    "\n",
    "failed_inspections = inspections_data.loc[inspections_data.Results == 'Fail']\n",
    "\n",
    "lat = []\n",
    "lng = []\n",
    "for coordinate in failed_inspections.Location:\n",
    "    lat.append(ast.literal_eval(coordinate)[0])\n",
    "    lng.append(ast.literal_eval(coordinate)[1])\n",
    "\n",
    "x,y = m(lng,lat)\n",
    "plt.scatter(x,y,alpha=0.5,s=20)\n",
    "plt.title(\"Chicago Cenus Tracts\")\n",
    "plt.show()\n",
    "    "
   ]
  },
  {
   "cell_type": "markdown",
   "metadata": {},
   "source": [
    "#### Let\\`s write some SQL Queries"
   ]
  },
  {
   "cell_type": "code",
   "execution_count": null,
   "metadata": {},
   "outputs": [],
   "source": [
    "Failed_Facility_types = pd.read_sql('''SELECT Facility_Type, COUNT(Facility_Type) AS Total_Failed_Inspections FROM food_inspections WHERE Results = \"Fail\" GROUP BY Facility_Type ORDER BY 2 DESC LIMIT 5''', con = connection)"
   ]
  },
  {
   "cell_type": "code",
   "execution_count": null,
   "metadata": {},
   "outputs": [],
   "source": [
    "Failed_Facility_types"
   ]
  },
  {
   "cell_type": "markdown",
   "metadata": {},
   "source": [
    "#### Let\\`s see how the number of inspections varied from 2016 to 2017"
   ]
  },
  {
   "cell_type": "code",
   "execution_count": null,
   "metadata": {},
   "outputs": [],
   "source": [
    "inspections_inc = pd.read_sql('''SELECT (SELECT count(*) FROM food_inspections WHERE year(Inspection_Date) = 2016) - (SELECT count(*) FROM food_inspections WHERE year(Inspection_Date) = 2017) AS Decrease_in_Inspections_from_2016_to_2017 ''', con = connection)\n",
    "inspections_inc"
   ]
  },
  {
   "cell_type": "code",
   "execution_count": null,
   "metadata": {},
   "outputs": [],
   "source": [
    "failed_inspections_inc = pd.read_sql('''SELECT (SELECT count(*) FROM food_inspections WHERE year(Inspection_Date) = 2016 AND Results = \"Fail\") - (SELECT count(*) FROM food_inspections WHERE year(Inspection_Date) = 2017 AND Results = \"Fail\") AS Decrease_in_failedinspections_from_2016_to_2017 ''', con = connection)\n",
    "failed_inspections_inc"
   ]
  },
  {
   "cell_type": "markdown",
   "metadata": {},
   "source": [
    "#### Which places have maximum number of failed inspections?"
   ]
  },
  {
   "cell_type": "code",
   "execution_count": null,
   "metadata": {},
   "outputs": [],
   "source": [
    "failed_places = pd.read_sql('''SELECT DBA_Name, Address, Location, count(*) AS Num_of_Failed_Inspections FROM food_inspections WHERE Results = \"Fail\" AND License != 0 GROUP BY License ORDER BY 4 DESC LIMIT 10''', con = connection)\n",
    "failed_places"
   ]
  },
  {
   "cell_type": "markdown",
   "metadata": {},
   "source": [
    "#### What is the percentage which didn\\`t pass the inspections that were carried out because of complaints?"
   ]
  },
  {
   "cell_type": "code",
   "execution_count": null,
   "metadata": {},
   "outputs": [],
   "source": [
    "df1 = pd.read_sql('''SELECT count(*)*(100.0) / (SELECT count(*) FROM food_inspections WHERE Inspection_Type  = \"Complaint\") AS Percentage FROM food_inspections WHERE Inspection_Type  = \"Complaint\" AND Results != \"Pass\"''', con = connection)\n",
    "df1"
   ]
  },
  {
   "cell_type": "markdown",
   "metadata": {},
   "source": [
    "#### What is the percentage which didn\\`t pass the inspections that were carried out because of \"Suspected Food Poisoning\"?"
   ]
  },
  {
   "cell_type": "code",
   "execution_count": null,
   "metadata": {},
   "outputs": [],
   "source": [
    "df2 = pd.read_sql('''SELECT count(*)*(100.0) / (SELECT count(*) FROM food_inspections WHERE Inspection_Type  = \"Suspected Food Poisoning\") AS Percentage FROM food_inspections WHERE Inspection_Type  = \"Suspected Food Poisoning\" AND Results != \"Pass\"''', con = connection)\n",
    "df2"
   ]
  },
  {
   "cell_type": "markdown",
   "metadata": {},
   "source": [
    "#### What is the percentage which didn\\`t pass the inspections that were carried out because of \"Complaint Re-Inspection\"?"
   ]
  },
  {
   "cell_type": "code",
   "execution_count": null,
   "metadata": {},
   "outputs": [],
   "source": [
    "df3 = pd.read_sql('''SELECT count(*)*(100.0) / (SELECT count(*) FROM food_inspections WHERE Inspection_Type = \"Complaint Re-Inspection\") AS Percentage FROM food_inspections WHERE Inspection_Type = \"Complaint Re-Inspection\" AND Results != \"Pass\"''', con = connection)\n",
    "df3"
   ]
  },
  {
   "cell_type": "markdown",
   "metadata": {},
   "source": [
    "#### What is the percentage which didn\\`t pass the inspections that were carried out because of \"Consultation\"?"
   ]
  },
  {
   "cell_type": "code",
   "execution_count": null,
   "metadata": {},
   "outputs": [],
   "source": [
    "df4 = pd.read_sql('''SELECT count(*)*(100.0) / (SELECT count(*) FROM food_inspections WHERE Inspection_Type = \"Consultation\") AS Percentage FROM food_inspections WHERE Inspection_Type = \"Consultation\" AND Results != \"Pass\"''', con = connection)\n",
    "df4"
   ]
  },
  {
   "cell_type": "markdown",
   "metadata": {},
   "source": [
    "#### Which Restaurants chains have most failed inspections?"
   ]
  },
  {
   "cell_type": "code",
   "execution_count": null,
   "metadata": {},
   "outputs": [],
   "source": [
    "df5 = pd.read_sql('''SELECT DBA_Name, COUNT(*) as No_of_failed_inspections FROM food_inspections WHERE Results = \"Fail\" GROUP BY DBA_Name ORDER BY 2 DESC LIMIT 3''', con = connection)\n",
    "df5"
   ]
  },
  {
   "cell_type": "code",
   "execution_count": null,
   "metadata": {},
   "outputs": [],
   "source": [
    "inspections_data['DBA Name'][inspections_data.Results == \"Fail\"].value_counts()[0:5].plot(kind = 'bar', title = \"Restaurant chains with most failed inspections\")"
   ]
  },
  {
   "cell_type": "markdown",
   "metadata": {},
   "source": [
    "#### Which subway restaurants failed most inspections?"
   ]
  },
  {
   "cell_type": "code",
   "execution_count": null,
   "metadata": {},
   "outputs": [],
   "source": [
    "df6 = pd.read_sql('''SELECT License, Address, Zip, COUNT(License) AS No_of_failed_inspections FROM food_inspections WHERE DBA_Name = \"SUBWAY\" AND Results = \"Fail\" GROUP BY License ORDER BY 4 DESC LIMIT 5''', con = connection)\n",
    "df6"
   ]
  },
  {
   "cell_type": "markdown",
   "metadata": {},
   "source": [
    "#### Which individual restaurants failed most inspections?"
   ]
  },
  {
   "cell_type": "code",
   "execution_count": null,
   "metadata": {},
   "outputs": [],
   "source": [
    "df7 = pd.read_sql('''SELECT DBA_Name, Address, Zip, COUNT(*) AS No_of_failed_inspections FROM food_inspections WHERE Facility_Type = \"Restaurant\" AND Results = \"Fail\" AND License != 0 GROUP BY License ORDER BY 4 DESC LIMIT 5''', con = connection)\n",
    "df7"
   ]
  },
  {
   "cell_type": "code",
   "execution_count": null,
   "metadata": {},
   "outputs": [],
   "source": [
    "plt.bar(df7['DBA_Name'], df7['No_of_failed_inspections'])\n",
    "plt.xticks(rotation = \"vertical\")\n",
    "plt.title(\"Top 5 restaurants with most failed inspections\")\n",
    "plt.show()"
   ]
  },
  {
   "cell_type": "markdown",
   "metadata": {},
   "source": [
    "#### Addresses with most failed inspections"
   ]
  },
  {
   "cell_type": "code",
   "execution_count": null,
   "metadata": {},
   "outputs": [],
   "source": [
    "df8 = pd.read_sql('''SELECT Address, COUNT(*) AS No_of_failed_inspections FROM food_inspections WHERE Results = \"Fail\" GROUP BY Address ORDER BY 2 DESC LIMIT 5''', con = connection)\n",
    "df8"
   ]
  },
  {
   "cell_type": "code",
   "execution_count": null,
   "metadata": {},
   "outputs": [],
   "source": [
    "plt.bar(df8['Address'], df7['No_of_failed_inspections'])\n",
    "plt.xticks(rotation = \"vertical\")\n",
    "plt.title(\"Top 5 Addresses with most failed inspections\")\n",
    "plt.show()"
   ]
  }
 ],
 "metadata": {
  "kernelspec": {
   "display_name": "Python 3",
   "language": "python",
   "name": "python3"
  },
  "language_info": {
   "codemirror_mode": {
    "name": "ipython",
    "version": 3
   },
   "file_extension": ".py",
   "mimetype": "text/x-python",
   "name": "python",
   "nbconvert_exporter": "python",
   "pygments_lexer": "ipython3",
   "version": "3.6.5"
  }
 },
 "nbformat": 4,
 "nbformat_minor": 2
}
